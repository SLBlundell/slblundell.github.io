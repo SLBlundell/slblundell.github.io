{
 "cells": [
  {
   "cell_type": "code",
   "execution_count": 2,
   "metadata": {},
   "outputs": [],
   "source": [
    "import urllib.request\n",
    "import json\n"
   ]
  },
  {
   "cell_type": "code",
   "execution_count": null,
   "metadata": {},
   "outputs": [],
   "source": [
    "url_path = \"https://www.censtatd.gov.hk/api/get.php?id=217&lang=en&param=N4IgxgbiBcoMJwJqJqATDEAGHu94H0QAaEAgFyOmxLIAcqBGAX1IBE5URHMC-aKVbgIYwsrEAAkAFgGcAlgC8Aplx7UipQZh5bR0cRNlRY9KmnaSYAbRAAlAIYB3AgGkCjACYMAdgFcAWwIfEABdUgBBNkkAZRt7Zw9vAjplACdgsNIABTByaII2CAIAeRL4xxcvBgBSTPCQAFllTwJPaQJ5HzAKxOkAa1bPMIkAGxhyNL9lZiA\"\n",
    "with urllib.request.urlopen(url_path) as url:\n",
    "\ts = url.read()\n",
    "\n",
    "urllib.request.urlretrieve(url_path, \"data_hk_census_districts.json\")"
   ]
  },
  {
   "cell_type": "code",
   "execution_count": 3,
   "metadata": {},
   "outputs": [],
   "source": [
    "with open(\"data_hk_census_districts.json\", \"r\") as read_file:\n",
    "    data = json.load(read_file)\n"
   ]
  },
  {
   "cell_type": "code",
   "execution_count": null,
   "metadata": {},
   "outputs": [],
   "source": [
    "for year in data[\"dataSet\"]:\n",
    "    year[\"period\"] = int(year[\"period\"])\n"
   ]
  },
  {
   "cell_type": "code",
   "execution_count": 4,
   "metadata": {},
   "outputs": [],
   "source": [
    "for district in data[\"dataSet\"]:\n",
    "    if district[\"DCDesc\"] == \"Total\":\n",
    "        district.clear()\n"
   ]
  },
  {
   "cell_type": "code",
   "execution_count": null,
   "metadata": {},
   "outputs": [],
   "source": [
    "for item in data[\"dataSet\"]:\n",
    "    if item[\"sv\"] != \"Med_dh_inc\":\n",
    "        item.clear()\n",
    "\n",
    "print(data)"
   ]
  },
  {
   "cell_type": "code",
   "execution_count": 5,
   "metadata": {},
   "outputs": [],
   "source": [
    "with open(\"data_hk_census_districts.json\", \"w\") as write_file:\n",
    "    json.dump(data, write_file)\n"
   ]
  }
 ],
 "metadata": {
  "kernelspec": {
   "display_name": "Python 3.9.12 ('myenv')",
   "language": "python",
   "name": "python3"
  },
  "language_info": {
   "codemirror_mode": {
    "name": "ipython",
    "version": 3
   },
   "file_extension": ".py",
   "mimetype": "text/x-python",
   "name": "python",
   "nbconvert_exporter": "python",
   "pygments_lexer": "ipython3",
   "version": "3.9.12"
  },
  "orig_nbformat": 4,
  "vscode": {
   "interpreter": {
    "hash": "bcf767d74aa0613621d814dbc311c100d7c513475831bdee7c609a7f5e52ccf1"
   }
  }
 },
 "nbformat": 4,
 "nbformat_minor": 2
}
