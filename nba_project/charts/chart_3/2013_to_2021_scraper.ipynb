{
 "cells": [
  {
   "cell_type": "code",
   "execution_count": null,
   "metadata": {},
   "outputs": [],
   "source": [
    "#import required libraries\n",
    "import pandas as pd\n",
    "import requests\n",
    "from bs4 import BeautifulSoup\n",
    "from difflib import SequenceMatcher\n"
   ]
  },
  {
   "cell_type": "code",
   "execution_count": null,
   "metadata": {},
   "outputs": [],
   "source": [
    "#request html content, both for regular season and playoffs\n",
    "url_base_reg = 'https://www.basketball-reference.com/leagues/NBA_{}.html'\n",
    "url_base_play = 'https://www.basketball-reference.com/playoffs/NBA_{}.html'\n",
    "url_base_payroll = 'https://hoopshype.com/salaries/{}/'\n",
    "\n",
    "years = [year for year in range(2013, 2023)]\n",
    "\n",
    "teams = [\"Boston Celtics\", \"Brooklyn Nets\", \"New York Knicks\", \"Philadelphia 76ers\", \"Toronto Raptors\", \"Chicago Bulls\",\n",
    "\"Cleveland Cavaliers\", \"Detroit Pistons\", \"Indiana Pacers\", \"Milwaukee Bucks\", \"Atlanta Hawks\", \"Charlotte Hornets\",\n",
    "\"Miami Heat\", \"Orlando Magic\", \"Washington Wizards\", \"Denver Nuggets\", \"Minnesota Timberwolves\", \"Oklahoma City Thunder\",\n",
    "\"Portland Trail Blazers\", \"Utah Jazz\", \"Golden State Warriors\", \"Los Angeles Clippers\", \"Los Angeles Lakers\", \"Phoenix Suns\",\n",
    "\"Sacramento Kings\", \"Dallas Mavericks\", \"Houston Rockets\", \"Memphis Grizzlies\", \"New Orleans Pelicans\", \"San Antonio Spurs\", \"Charlotte Bobcats\", \"New Orleans Hornets\"]\n",
    "\n",
    "df_main = pd.DataFrame()\n",
    "\n",
    "cpi = pd.read_csv('data/cpi-u_2013-22.csv')\n",
    "bri = pd.read_csv('data/total_league_revenues.csv')\n",
    "\n",
    "def similar(a, b):\n",
    "    return SequenceMatcher(None, a, b).ratio()"
   ]
  },
  {
   "cell_type": "code",
   "execution_count": null,
   "metadata": {},
   "outputs": [],
   "source": [
    "for i in years:\n",
    "\n",
    "    url_reg = url_base_reg.format(i)\n",
    "\n",
    "    per_game = requests.get(url_reg)\n",
    "\n",
    "    #create BeautifulSoup object\n",
    "    soup = BeautifulSoup(per_game.content, 'html.parser')\n",
    "\n",
    "    #locate correct table\n",
    "    table = soup.find(lambda tag: tag.name=='table' and tag.has_attr('id') and tag['id']==\"per_game-team\") \n",
    "    rows = table.findAll(lambda tag: tag.name=='tr')\n",
    "\n",
    "    #create DataFrame\n",
    "    df = pd.read_html(str(table))[0]\n",
    "\n",
    "    #clean DataFrame\n",
    "    df = df.drop(index=30)\n",
    "    df['Team'] = df['Team'].str.replace('*', '')\n",
    "    df.insert(2, \"Year\", i, True)\n",
    "    df = df.drop(columns=['Rk', 'G', 'MP'])\n",
    "\n",
    "\n",
    "    #add advanced stats to DataFrame\n",
    "    table = soup.find(lambda tag: tag.name=='table' and tag.has_attr('id') and tag['id']==\"advanced-team\") \n",
    "    rows = table.findAll(lambda tag: tag.name=='tr')\n",
    "    df_adv = pd.read_html(str(table))[0]\n",
    "    \n",
    "    df_adv.columns = df_adv.columns.droplevel()\n",
    "    df_adv = df_adv.drop(index=30)\n",
    "    df_adv['Team'] = df_adv['Team'].str.replace('*', '')\n",
    "    df_adv = df_adv.drop(columns=[\"Rk\", \"L\", \"PW\", \"PL\", \"Unnamed: 17_level_1\", \"Unnamed: 22_level_1\", \"Unnamed: 27_level_1\", \"Arena\"])\n",
    "\n",
    "\n",
    "    #add playoff wins to DataFrame\n",
    "    url_play = url_base_play.format(i)\n",
    "    playoff_wins = requests.get(url_play)\n",
    "    soup = BeautifulSoup(playoff_wins.content, 'html.parser')\n",
    "    table = soup.find(lambda tag: tag.name=='table' and tag.has_attr('id') and tag['id']==\"advanced-team\")\n",
    "    df_play = pd.read_html(str(table))[0]\n",
    "    \n",
    "    df_play.columns = df_play.columns.droplevel()\n",
    "    df_play = df_play.drop(index=16)\n",
    "    df_play = df_play.rename(columns={\"Tm\": \"Team\", \"W\" : \"Playoff_W\"})\n",
    "    df_play = df_play[[\"Team\", \"Playoff_W\"]]\n",
    "\n",
    "\n",
    "    #add payroll data\n",
    "    url_payroll = url_base_payroll.format(f'{i-1}-{i}')\n",
    "    payrolls = requests.get(url_payroll)\n",
    "    soup = BeautifulSoup(payrolls.content, 'html.parser')\n",
    "    table = soup.find(\"table\", class_=\"hh-salaries-ranking-table hh-salaries-table-sortable responsive\")\n",
    "    rows = table.findAll(lambda tag: tag.name=='tr')\n",
    "    df_payroll = pd.read_html(str(table))[0]\n",
    "\n",
    "    df_payroll = df_payroll.iloc[:, [1,2]]\n",
    "    df_payroll[f'{i-1}/{i-2000}'] = df_payroll[f'{i-1}/{i-2000}'].str.replace('[$,]', '').astype(int)\n",
    "    df_payroll = df_payroll.rename(columns={f'{i-1}/{i-2000}': 'Payroll'})\n",
    "\n",
    "    team_replace = {row: team for row in df_payroll['Team'].to_list() for team in teams if similar(row, team)>=0.53}\n",
    "\n",
    "    for index, team in team_replace.items():\n",
    "        df_payroll.loc[df_payroll['Team'] == index, 'Team'] = team\n",
    "            \n",
    "    # adjust payroll for inflation, basketball-related-income\n",
    "    df_payroll['Adjusted Payroll'] = df_payroll['Payroll'] / (cpi[cpi['Year'] == (i - 1)]['Annual'].values[0] \n",
    "    + bri[bri['Year'] == (i - 1)]['Revenue'].values[0])\n",
    "\n",
    "\n",
    "    # merge all datasets\n",
    "    df = pd.merge(df, df_adv, on='Team')\n",
    "    df = pd.merge(df, df_play, on='Team')\n",
    "    df = pd.merge(df, df_payroll, on='Team')\n",
    "\n",
    "    df_main = pd.concat([df_main, df])\n",
    "    df_main = df_main.reset_index(drop=True)\n"
   ]
  },
  {
   "cell_type": "code",
   "execution_count": null,
   "metadata": {},
   "outputs": [],
   "source": [
    "df_main"
   ]
  },
  {
   "cell_type": "code",
   "execution_count": null,
   "metadata": {},
   "outputs": [],
   "source": [
    "#write data to csv\n",
    "df_main.to_csv('data/playoff_per_game_2013-22.csv')"
   ]
  }
 ],
 "metadata": {
  "kernelspec": {
   "display_name": "myenv",
   "language": "python",
   "name": "python3"
  },
  "language_info": {
   "codemirror_mode": {
    "name": "ipython",
    "version": 3
   },
   "file_extension": ".py",
   "mimetype": "text/x-python",
   "name": "python",
   "nbconvert_exporter": "python",
   "pygments_lexer": "ipython3",
   "version": "3.9.12"
  },
  "orig_nbformat": 4,
  "vscode": {
   "interpreter": {
    "hash": "bcf767d74aa0613621d814dbc311c100d7c513475831bdee7c609a7f5e52ccf1"
   }
  }
 },
 "nbformat": 4,
 "nbformat_minor": 2
}
