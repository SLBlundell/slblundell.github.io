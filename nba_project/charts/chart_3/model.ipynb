{
 "cells": [
  {
   "cell_type": "code",
   "execution_count": null,
   "metadata": {},
   "outputs": [],
   "source": [
    "import pandas as pd\n",
    "import numpy as np\n",
    "import matplotlib.pyplot as plt\n",
    "import seaborn as sns\n",
    "from sklearn.model_selection import train_test_split\n",
    "from sklearn.ensemble import RandomForestRegressor\n",
    "from sklearn.metrics import mean_absolute_error\n",
    "from sklearn.linear_model import LinearRegression\n",
    "from sklearn.metrics import mean_squared_error, r2_score"
   ]
  },
  {
   "cell_type": "code",
   "execution_count": null,
   "metadata": {},
   "outputs": [],
   "source": [
    "data = pd.read_csv('C:/Users/whisk/OneDrive/Documents/Bristol/Economics/Year 4/Data Science/slblundell.github.io/nba_project/data/playoff_per_game_2013-22.csv')\n",
    "pred_data = pd.read_csv('C:/Users/whisk/OneDrive/Documents/Bristol/Economics/Year 4/Data Science/slblundell.github.io/nba_project/data/team_per_game_2023.csv')\n",
    "data"
   ]
  },
  {
   "cell_type": "code",
   "execution_count": null,
   "metadata": {},
   "outputs": [],
   "source": [
    "# creating list of variables conditioning upon a correlation coefficient of above 0.25 with playoff wins, our \n",
    "# indepentent variable\n",
    "corr = data.corr().abs()\n",
    "corr = corr.loc[corr['Playoff_W']>.25]\n",
    "corr.index\n",
    "variables = list(corr.index)"
   ]
  },
  {
   "cell_type": "code",
   "execution_count": null,
   "metadata": {},
   "outputs": [],
   "source": [
    "variables"
   ]
  },
  {
   "cell_type": "code",
   "execution_count": null,
   "metadata": {},
   "outputs": [],
   "source": [
    "plt.figure(figsize=(20,10))\n",
    "plt.title(\"Correlation between Filtered Variables\")\n",
    "sns.heatmap(data=data[variables].corr(), annot=True)"
   ]
  },
  {
   "cell_type": "code",
   "execution_count": null,
   "metadata": {},
   "outputs": [],
   "source": [
    "# Exporting correlation table for graph 3\n",
    "# HOWEVER, given these values are for the 2013-2021 seasons, they will not change. \n",
    "# As such, no need to overwrite the CSV each time the model is run\n",
    "\n",
    "# var_heatmap = variables.copy()\n",
    "# var_heatmap.append('Adjusted Payroll')\n",
    "# df_correlations = data[var_heatmap].corr().reset_index(level=0).rename(columns={\"Playoff_W\": \"P_W\", \"Adjusted Payroll\": \"Pay\"}).replace({\"Playoff_W\": \"P_W\", \"Adjusted Payroll\": \"Pay\"})\n",
    "\n",
    "# df_correlations = df_correlations.melt('index', var_name='Variable', value_name='Correlation')\n",
    "# df_correlations.to_csv('C:/Users/whisk/OneDrive/Documents/Bristol/Economics/Year 4/Data Science/slblundell.github.io/nba_project/data/correlations_playoff.csv')"
   ]
  },
  {
   "cell_type": "code",
   "execution_count": null,
   "metadata": {},
   "outputs": [],
   "source": [
    "corr_pay = data['Playoff_W'].corr(data['Adjusted Payroll'])\n",
    "corr_wins = data['W'].corr(data['Adjusted Payroll'])\n",
    "\n",
    "print(f'Correlation between playoff wins and payrolls: {corr_pay}')\n",
    "print(f'Correlation between regular season wins and payrolls: {corr_wins}')"
   ]
  },
  {
   "cell_type": "code",
   "execution_count": null,
   "metadata": {},
   "outputs": [],
   "source": [
    "# removing MOV (margin of victory) as this variable causes multicolinearity concerns with SRS (Simple Rating System)\n",
    "# additionally, removing Adjusted Payroll given we do not want payroll to factor into the linear regression when\n",
    "# comparing predicted playoff rating with payrolls\n",
    "remove = ['MOV','Adjusted Payroll']\n",
    "variables = [item for item in variables if item not in remove]\n",
    "variables"
   ]
  },
  {
   "cell_type": "code",
   "execution_count": null,
   "metadata": {},
   "outputs": [],
   "source": [
    "# creating our coefficient matrices\n",
    "X = data[variables].drop('Playoff_W',1)\n",
    "Y = data['Playoff_W']\n",
    "\n",
    "pred_X = pred_data[variables].drop('Playoff_W',1)\n",
    "\n",
    "X.head()"
   ]
  },
  {
   "cell_type": "code",
   "execution_count": null,
   "metadata": {},
   "outputs": [],
   "source": [
    "# creating our test split, with a size of 20% of the data\n",
    "X_train, X_test, Y_train, Y_test = train_test_split(X,Y, test_size=0.2)\n",
    "\n",
    "# training our model\n",
    "model = LinearRegression().fit(X_train, Y_train)\n",
    "Y_pred = model.predict(X_test)"
   ]
  },
  {
   "cell_type": "code",
   "execution_count": null,
   "metadata": {},
   "outputs": [],
   "source": [
    "# explore model performance\n",
    "print('Coefficients: ', model.coef_)\n",
    "print('Intercept:', model.intercept_)\n",
    "print('Mean squared erorr: %.2f' \n",
    "    % mean_squared_error(Y_test, Y_pred))\n",
    "print('Coefficient of determination (R^2): %.2f' \n",
    "    % r2_score(Y_test, Y_pred))"
   ]
  },
  {
   "cell_type": "code",
   "execution_count": null,
   "metadata": {},
   "outputs": [],
   "source": [
    "# scatter plot of our predicted playoff wins vs actual playoff wins\n",
    "sns.scatterplot(Y_test, Y_pred)"
   ]
  },
  {
   "cell_type": "code",
   "execution_count": null,
   "metadata": {},
   "outputs": [],
   "source": [
    "# defining the linear regression model\n",
    "Y_pred = model.predict(pred_X)\n",
    "\n",
    "# normalizing the predicted playoff wins, to prevent teams being predicted \"negative wins\" due to the fact the 2022/23\n",
    "# season has yet to end (in addition to aiding interpretation)\n",
    "w_min, w_max = min(Y_pred), max(Y_pred)\n",
    "for i, win in enumerate(Y_pred):\n",
    "    Y_pred[i] = (win-w_min) / (w_max - w_min)\n",
    "\n",
    "Y_pred"
   ]
  },
  {
   "cell_type": "code",
   "execution_count": null,
   "metadata": {},
   "outputs": [],
   "source": [
    "# creating DataFrame of normalized predicted playoff wins (so-called predicted playoff rating) for 2022/23 season\n",
    "df_Y_pred = pred_data[['Team','Playoff_W']]\n",
    " \n",
    "for i in range(30):\n",
    "    df_Y_pred.loc[i, 'Playoff_W'] = Y_pred[i]\n",
    "\n",
    "df_Y_pred = df_Y_pred.sort_values(by='Playoff_W',ascending=False).reset_index(drop=True)\n",
    "df_Y_pred = df_Y_pred.rename(columns={'Playoff_W': 'Predicted Playoff Rating'})\n",
    "df_Y_pred"
   ]
  },
  {
   "cell_type": "code",
   "execution_count": null,
   "metadata": {},
   "outputs": [],
   "source": [
    "# merging predicted playoff wins DataFrame with Payroll data for comparison\n",
    "payroll = pred_data[['Team', 'Payroll']]\n",
    "df_Y_pred = pd.merge(df_Y_pred, payroll, on='Team')\n",
    "df_Y_pred"
   ]
  },
  {
   "cell_type": "code",
   "execution_count": null,
   "metadata": {},
   "outputs": [],
   "source": [
    "df_Y_pred.to_csv('C:/Users/whisk/OneDrive/Documents/Bristol/Economics/Year 4/Data Science/slblundell.github.io/nba_project/data/model_predicted_wins.csv')"
   ]
  },
  {
   "cell_type": "code",
   "execution_count": null,
   "metadata": {},
   "outputs": [],
   "source": [
    "corr_pred = df_Y_pred['Predicted Playoff Rating'].corr(df_Y_pred['Payroll'])\n",
    "print(f'Correlation between predicted playoff rating and payrolls: {corr_pred}')"
   ]
  },
  {
   "cell_type": "code",
   "execution_count": null,
   "metadata": {},
   "outputs": [],
   "source": [
    "ax = df_Y_pred.plot.barh(x='Team', y='Predicted Playoff Rating', figsize=(10,10))"
   ]
  },
  {
   "cell_type": "code",
   "execution_count": null,
   "metadata": {},
   "outputs": [],
   "source": [
    "fig = ax.get_figure()\n",
    "fig.savefig('C:/Users/whisk/OneDrive/Documents/Bristol/Economics/Year 4/Data Science/slblundell.github.io/nba_project/figures/win_rating_bar.jpeg')"
   ]
  }
 ],
 "metadata": {
  "kernelspec": {
   "display_name": "myenv",
   "language": "python",
   "name": "python3"
  },
  "language_info": {
   "codemirror_mode": {
    "name": "ipython",
    "version": 3
   },
   "file_extension": ".py",
   "mimetype": "text/x-python",
   "name": "python",
   "nbconvert_exporter": "python",
   "pygments_lexer": "ipython3",
   "version": "3.9.12 (main, Apr  4 2022, 05:23:19) [MSC v.1916 32 bit (Intel)]"
  },
  "orig_nbformat": 4,
  "vscode": {
   "interpreter": {
    "hash": "bcf767d74aa0613621d814dbc311c100d7c513475831bdee7c609a7f5e52ccf1"
   }
  }
 },
 "nbformat": 4,
 "nbformat_minor": 2
}
