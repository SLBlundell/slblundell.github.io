{
 "cells": [
  {
   "cell_type": "code",
   "execution_count": null,
   "metadata": {},
   "outputs": [],
   "source": [
    "import pandas as pd\n",
    "import numpy as np\n",
    "import matplotlib.pyplot as plt\n",
    "import seaborn as sns\n",
    "from sklearn.model_selection import train_test_split\n",
    "from sklearn.ensemble import RandomForestRegressor\n",
    "from sklearn.metrics import mean_absolute_error\n",
    "from sklearn.linear_model import LinearRegression"
   ]
  },
  {
   "cell_type": "code",
   "execution_count": null,
   "metadata": {},
   "outputs": [],
   "source": [
    "glossary = {\n",
    "'AST': 'Assists',\n",
    "'Pay': 'Player salary',\n",
    "'2P': '2-Point Field Goals',\n",
    "'2PA': '2-Point Field Goal Attempts',\n",
    "'FG': 'Field Goals',\n",
    "'FGA': 'Field Goal Attempts',\n",
    "'FT': 'Free Throws',\n",
    "'FTA': 'Free Throw Attempts',\n",
    "'MP': 'Minutes Played',\n",
    "'PTS': 'Points',\n",
    "'TOV': 'Turnovers',\n",
    "'VORP': 'Value Over Replacement: A box score estimate of the points per 100 TEAM possessions that a player contributed above a replacement-level (-2.0) player, translated to an average team and prorated to an 82-game season.',\n",
    "'WS': 'An estimate of the number of wins contributed by a player.'\n",
    "}\n",
    "\n",
    "df_glossary = pd.DataFrame.from_dict(glossary, orient='index', columns=['Definition']).reset_index(level=0)"
   ]
  },
  {
   "cell_type": "code",
   "execution_count": null,
   "metadata": {},
   "outputs": [],
   "source": [
    "data = pd.read_csv('C:/Users/whisk/OneDrive/Documents/Bristol/Economics/Year 4/Data Science/slblundell.github.io/nba_project/data/player_per_game_salary_2023.csv')\n",
    "data = data.drop(columns=['Unnamed: 0', '2023/24', '2024/25', '2025/26', '2026/27', '2027/28'])\n",
    "\n",
    "data.head()"
   ]
  },
  {
   "cell_type": "code",
   "execution_count": null,
   "metadata": {},
   "outputs": [],
   "source": [
    "corr = data.corr().abs()\n",
    "corr = corr.loc[corr['2022/23']>.6]\n",
    "corr.index\n",
    "variables = list(corr.index)"
   ]
  },
  {
   "cell_type": "code",
   "execution_count": null,
   "metadata": {},
   "outputs": [],
   "source": [
    "var_heatmap = variables.copy()\n",
    "df_correlations = data[var_heatmap].corr().reset_index(level=0).rename(columns={\"2022/23\": \"Pay\"}).replace({\"2022/23\": \"Pay\"})\n",
    "df_correlations = df_correlations.melt('index', var_name='Variable', value_name='Correlation')\n",
    "\n",
    "df_correlations = pd.merge(df_correlations, df_glossary, on='index').reset_index(drop=True)\n",
    "df_correlations.to_csv('C:/Users/whisk/OneDrive/Documents/Bristol/Economics/Year 4/Data Science/slblundell.github.io/nba_project/data/chart_4_correlations.csv')"
   ]
  },
  {
   "cell_type": "code",
   "execution_count": null,
   "metadata": {},
   "outputs": [],
   "source": [
    "var_heatmap.insert(0, 'Player')\n",
    "var_heatmap.insert(1, var_heatmap.pop(-1))\n",
    "var_heatmap.insert(2, 'Tm')\n",
    "var_heatmap.insert(3, 'Pos')\n",
    "\n",
    "df_filter = data[var_heatmap].reset_index(drop=True).rename(columns={\"2022/23\": \"Salary 2022/23\"})\n"
   ]
  },
  {
   "cell_type": "code",
   "execution_count": null,
   "metadata": {},
   "outputs": [],
   "source": [
    "df_filter"
   ]
  },
  {
   "cell_type": "code",
   "execution_count": null,
   "metadata": {},
   "outputs": [],
   "source": [
    "df_filter.to_csv('C:/Users/whisk/OneDrive/Documents/Bristol/Economics/Year 4/Data Science/slblundell.github.io/nba_project/data/chart_4_player_data.csv')"
   ]
  },
  {
   "cell_type": "code",
   "execution_count": null,
   "metadata": {},
   "outputs": [],
   "source": [
    "sns.lmplot(x=\"2022/23\", y=\"WS\", hue=\"Pos\", data=data, order=2, markers=[\"x\", \"o\", \"+\", \"*\", \"^\"], ci=None)"
   ]
  }
 ],
 "metadata": {
  "kernelspec": {
   "display_name": "myenv",
   "language": "python",
   "name": "python3"
  },
  "language_info": {
   "codemirror_mode": {
    "name": "ipython",
    "version": 3
   },
   "file_extension": ".py",
   "mimetype": "text/x-python",
   "name": "python",
   "nbconvert_exporter": "python",
   "pygments_lexer": "ipython3",
   "version": "3.9.12 (main, Apr  4 2022, 05:23:19) [MSC v.1916 32 bit (Intel)]"
  },
  "orig_nbformat": 4,
  "vscode": {
   "interpreter": {
    "hash": "bcf767d74aa0613621d814dbc311c100d7c513475831bdee7c609a7f5e52ccf1"
   }
  }
 },
 "nbformat": 4,
 "nbformat_minor": 2
}
