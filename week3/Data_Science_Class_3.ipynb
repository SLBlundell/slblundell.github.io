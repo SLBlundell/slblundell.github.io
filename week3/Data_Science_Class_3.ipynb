{
  "cells": [
    {
      "cell_type": "markdown",
      "metadata": {
        "id": "SQDdxaaTqpjR"
      },
      "source": [
        "Arrays, vectors, `lists`  \n",
        "Cell navigation: `Ctrl+Enter` runs the cell  \n",
        "`Alt+Enter` runs and adds a new one below\n",
        "`Shift+Etner` runs and steps into the next cell"
      ]
    },
    {
      "cell_type": "code",
      "execution_count": 3,
      "metadata": {
        "colab": {
          "base_uri": "https://localhost:8080/"
        },
        "id": "JA0e_SQejT8M",
        "outputId": "f9731b93-71f7-4a5c-9088-a1da28b26f98"
      },
      "outputs": [
        {
          "data": {
            "text/plain": [
              "[2, 4, 3, 'fdfd', [5, 6]]"
            ]
          },
          "execution_count": 3,
          "metadata": {},
          "output_type": "execute_result"
        }
      ],
      "source": [
        "a = [2,4,3,\"fdfd\",[5,6]] \n",
        "a"
      ]
    },
    {
      "cell_type": "code",
      "execution_count": 7,
      "metadata": {
        "colab": {
          "base_uri": "https://localhost:8080/"
        },
        "id": "-5WLgbVsrwRC",
        "outputId": "59099213-93f0-48b7-c040-ccf4ea37a4e9"
      },
      "outputs": [
        {
          "data": {
            "text/plain": [
              "5"
            ]
          },
          "execution_count": 7,
          "metadata": {},
          "output_type": "execute_result"
        }
      ],
      "source": [
        "a[4][0]"
      ]
    },
    {
      "cell_type": "markdown",
      "metadata": {
        "id": "lbHlzm9IrGv2"
      },
      "source": [
        "This is a nice **comments**  \n",
        "Dictionary, Object, Hash table"
      ]
    },
    {
      "cell_type": "code",
      "execution_count": 13,
      "metadata": {
        "id": "UAPAuxWwrGaq"
      },
      "outputs": [],
      "source": [
        "b={'alfa':1, \n",
        "   'beta':27, \n",
        "   'gamma':[0,1,2], \n",
        "   'delta':'67.3', \n",
        "   'ninety-eight':{\n",
        "       'a':5,\n",
        "       'b':7}\n",
        "   }"
      ]
    },
    {
      "cell_type": "code",
      "execution_count": 14,
      "metadata": {
        "colab": {
          "base_uri": "https://localhost:8080/"
        },
        "id": "aJ-z6Cnrsgh0",
        "outputId": "033ce262-8bd2-4e81-e971-d5b68bca9461"
      },
      "outputs": [
        {
          "data": {
            "text/plain": [
              "5"
            ]
          },
          "execution_count": 14,
          "metadata": {},
          "output_type": "execute_result"
        }
      ],
      "source": [
        "b['ninety-eight']['a']"
      ]
    },
    {
      "cell_type": "code",
      "execution_count": 27,
      "metadata": {
        "colab": {
          "base_uri": "https://localhost:8080/"
        },
        "id": "jwVdnLqcfdpZ",
        "outputId": "6cc0db71-9d27-4210-f397-8f64fac117bd"
      },
      "outputs": [
        {
          "data": {
            "text/plain": [
              "(dict_keys(['alfa', 'beta', 'gamma', 'delta', 'ninety-eight']),\n",
              " dict_values([1, 27, [0, 1, 2], '67.3', {'a': 5, 'b': 7}]))"
            ]
          },
          "execution_count": 27,
          "metadata": {},
          "output_type": "execute_result"
        }
      ],
      "source": [
        "b.keys(),b.values()"
      ]
    },
    {
      "cell_type": "code",
      "execution_count": 2,
      "metadata": {
        "id": "ibIVxiYctJZC"
      },
      "outputs": [],
      "source": [
        "import pandas as pd"
      ]
    },
    {
      "cell_type": "code",
      "execution_count": 3,
      "metadata": {
        "id": "74OIAl7VeLQM"
      },
      "outputs": [],
      "source": [
        "df = pd.read_csv('daily_yields.csv')"
      ]
    },
    {
      "cell_type": "code",
      "execution_count": 5,
      "metadata": {
        "colab": {
          "base_uri": "https://localhost:8080/",
          "height": 175
        },
        "id": "s4IsForwfUh0",
        "outputId": "971a5d91-3029-4efb-e116-49a1d0cb1213"
      },
      "outputs": [
        {
          "data": {
            "text/html": [
              "<div>\n",
              "<style scoped>\n",
              "    .dataframe tbody tr th:only-of-type {\n",
              "        vertical-align: middle;\n",
              "    }\n",
              "\n",
              "    .dataframe tbody tr th {\n",
              "        vertical-align: top;\n",
              "    }\n",
              "\n",
              "    .dataframe thead th {\n",
              "        text-align: right;\n",
              "    }\n",
              "</style>\n",
              "<table border=\"1\" class=\"dataframe\">\n",
              "  <thead>\n",
              "    <tr style=\"text-align: right;\">\n",
              "      <th></th>\n",
              "      <th>Maturity</th>\n",
              "      <th>Yield</th>\n",
              "    </tr>\n",
              "  </thead>\n",
              "  <tbody>\n",
              "    <tr>\n",
              "      <th>0</th>\n",
              "      <td>2022-07-09</td>\n",
              "      <td>2.154360</td>\n",
              "    </tr>\n",
              "    <tr>\n",
              "      <th>1</th>\n",
              "      <td>2022-07-10</td>\n",
              "      <td>2.173819</td>\n",
              "    </tr>\n",
              "    <tr>\n",
              "      <th>2</th>\n",
              "      <td>2022-07-11</td>\n",
              "      <td>2.193279</td>\n",
              "    </tr>\n",
              "    <tr>\n",
              "      <th>3</th>\n",
              "      <td>2022-07-12</td>\n",
              "      <td>2.212738</td>\n",
              "    </tr>\n",
              "  </tbody>\n",
              "</table>\n",
              "</div>"
            ],
            "text/plain": [
              "     Maturity     Yield\n",
              "0  2022-07-09  2.154360\n",
              "1  2022-07-10  2.173819\n",
              "2  2022-07-11  2.193279\n",
              "3  2022-07-12  2.212738"
            ]
          },
          "execution_count": 5,
          "metadata": {},
          "output_type": "execute_result"
        }
      ],
      "source": [
        "df.head(4)"
      ]
    },
    {
      "cell_type": "code",
      "execution_count": 4,
      "metadata": {
        "id": "ef-iWm_OeWyS"
      },
      "outputs": [],
      "source": [
        "exported_values = list( df.T.to_dict().values() )"
      ]
    },
    {
      "cell_type": "code",
      "execution_count": 6,
      "metadata": {
        "id": "iEdiG9RwhBwD"
      },
      "outputs": [],
      "source": [
        "import json"
      ]
    },
    {
      "cell_type": "code",
      "execution_count": 7,
      "metadata": {
        "colab": {
          "base_uri": "https://localhost:8080/"
        },
        "id": "UM_6yWk9hTgF",
        "outputId": "e0396ec3-0ee1-46b1-aa2f-be2b9ab90a19"
      },
      "outputs": [
        {
          "data": {
            "text/plain": [
              "676298"
            ]
          },
          "execution_count": 7,
          "metadata": {},
          "output_type": "execute_result"
        }
      ],
      "source": [
        "open('my_first_json_file.json',\n",
        "     'w').write( json.dumps(exported_values) )"
      ]
    }
  ],
  "metadata": {
    "colab": {
      "collapsed_sections": [],
      "provenance": []
    },
    "kernelspec": {
      "display_name": "Python 3.9.12 ('myenv')",
      "language": "python",
      "name": "python3"
    },
    "language_info": {
      "codemirror_mode": {
        "name": "ipython",
        "version": 3
      },
      "file_extension": ".py",
      "mimetype": "text/x-python",
      "name": "python",
      "nbconvert_exporter": "python",
      "pygments_lexer": "ipython3",
      "version": "3.9.12"
    },
    "vscode": {
      "interpreter": {
        "hash": "bcf767d74aa0613621d814dbc311c100d7c513475831bdee7c609a7f5e52ccf1"
      }
    }
  },
  "nbformat": 4,
  "nbformat_minor": 0
}
