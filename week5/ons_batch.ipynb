{
 "cells": [
  {
   "cell_type": "code",
   "execution_count": 1,
   "metadata": {},
   "outputs": [],
   "source": [
    "import requests\n",
    "import json"
   ]
  },
  {
   "cell_type": "code",
   "execution_count": 3,
   "metadata": {},
   "outputs": [],
   "source": [
    "url_base = \"https://api.ons.gov.uk/timeseries/{}/dataset/LMS/data\"\n",
    "file_base = \"ons_json_{}.json\"\n",
    "\n",
    "ons_series = [\"LF2O\", \"LF24\", \"MGSX\", \"LF2S\", \"MGSY\", \"MGSZ\", \"MGRQ\", \"YCBE\", \"YCBH\", \"JWS7\", \"G9BZ\", \"9C2\", \"YBUS\", \"YCBW\"]\n",
    "\n",
    "for i in ons_series:\n",
    "    \n",
    "    url = url_base.format(i)\n",
    "    data = requests.get(url).json()\n",
    "\n",
    "    file = file_base.format(i)\n",
    "\n",
    "    with open(file, 'w', encoding='utf-8') as f:\n",
    "        json.dump(data, f, ensure_ascii=False, indent=4)"
   ]
  }
 ],
 "metadata": {
  "kernelspec": {
   "display_name": "Python 3.9.12 ('myenv')",
   "language": "python",
   "name": "python3"
  },
  "language_info": {
   "codemirror_mode": {
    "name": "ipython",
    "version": 3
   },
   "file_extension": ".py",
   "mimetype": "text/x-python",
   "name": "python",
   "nbconvert_exporter": "python",
   "pygments_lexer": "ipython3",
   "version": "3.9.12"
  },
  "orig_nbformat": 4,
  "vscode": {
   "interpreter": {
    "hash": "bcf767d74aa0613621d814dbc311c100d7c513475831bdee7c609a7f5e52ccf1"
   }
  }
 },
 "nbformat": 4,
 "nbformat_minor": 2
}
