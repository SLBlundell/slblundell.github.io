{
 "cells": [
  {
   "cell_type": "code",
   "execution_count": 1,
   "metadata": {},
   "outputs": [],
   "source": [
    "# import necessary libraries\n",
    "import pandas as pd\n",
    "import os\n",
    "import glob"
   ]
  },
  {
   "cell_type": "code",
   "execution_count": 13,
   "metadata": {},
   "outputs": [],
   "source": [
    "cpi = pd.read_csv('C:/Users/whisk/OneDrive/Documents/Bristol/Economics/Year 4/Data Science/slblundell.github.io/nba_project/data/cpi-u_2013-22.csv')\n",
    "bri = pd.read_csv('C:/Users/whisk/OneDrive/Documents/Bristol/Economics/Year 4/Data Science/slblundell.github.io/nba_project/data/total_league_revenues.csv')"
   ]
  },
  {
   "cell_type": "code",
   "execution_count": 59,
   "metadata": {},
   "outputs": [],
   "source": [
    "teams = ['atl', 'bkn', 'bos', 'cha', 'chi', 'cle', 'dal', 'den', 'det', 'gsw', 'hou', 'ind', 'lac', 'lal', 'mem', \n",
    "'mia', 'mil', 'min', 'nop', 'nyk', 'okc', 'orl', 'phi', 'phx', 'por', 'sac', 'sas', 'tor', 'uth', 'was']"
   ]
  },
  {
   "cell_type": "code",
   "execution_count": null,
   "metadata": {},
   "outputs": [],
   "source": [
    "for team in teams:\n",
    "    df = pd.read_csv(f'active_payroll_{team}.csv')\n",
    "    \n",
    "    df = df.rename(columns={'year': 'Year', 'team': 'Team', 'code': 'Code','active': 'Payroll'})\n",
    "    \n",
    "    df = pd.merge(df, cpi, on='Year')\n",
    "    df = pd.merge(df, bri, on='Year')\n",
    "\n",
    "    df['Adjusted_Payroll'] = df['Payroll'] / (df['Annual'] + df['Index'])\n",
    "\n",
    "    df.to_csv(f'active_payroll_{team}.csv')"
   ]
  },
  {
   "cell_type": "code",
   "execution_count": null,
   "metadata": {},
   "outputs": [],
   "source": [
    "for team in teams:\n",
    "    df = pd.read_csv(f'active_payroll_{team}.csv')\n",
    "\n",
    "    df = df.drop(columns=[\"Unnamed: 0.1\", \"Unnamed: 0\", \"Annual\", \"Revenue\", \"Adjusted_Payroll\"])\n",
    "\n",
    "    df = pd.merge(df, cpi, on='Year')\n",
    "    df = pd.merge(df, bri, on='Year')\n",
    "\n",
    "    df['Adjusted_Payroll'] = df['Payroll'] / (df['Annual'] + df['Index']).reset_index(drop=True)\n",
    "\n",
    "    df.to_csv(f'active_payroll_{team}.csv')"
   ]
  },
  {
   "cell_type": "code",
   "execution_count": 38,
   "metadata": {},
   "outputs": [],
   "source": [
    "df = pd.read_csv('team_active_payroll.csv').drop(columns='Unnamed: 0').reset_index(drop=True)"
   ]
  },
  {
   "cell_type": "code",
   "execution_count": 41,
   "metadata": {},
   "outputs": [
    {
     "data": {
      "text/html": [
       "<div>\n",
       "<style scoped>\n",
       "    .dataframe tbody tr th:only-of-type {\n",
       "        vertical-align: middle;\n",
       "    }\n",
       "\n",
       "    .dataframe tbody tr th {\n",
       "        vertical-align: top;\n",
       "    }\n",
       "\n",
       "    .dataframe thead th {\n",
       "        text-align: right;\n",
       "    }\n",
       "</style>\n",
       "<table border=\"1\" class=\"dataframe\">\n",
       "  <thead>\n",
       "    <tr style=\"text-align: right;\">\n",
       "      <th></th>\n",
       "      <th>team</th>\n",
       "      <th>code</th>\n",
       "      <th>year</th>\n",
       "      <th>active</th>\n",
       "    </tr>\n",
       "  </thead>\n",
       "  <tbody>\n",
       "    <tr>\n",
       "      <th>0</th>\n",
       "      <td>Los Angeles Clippers</td>\n",
       "      <td>LAC</td>\n",
       "      <td>2022</td>\n",
       "      <td>191952857</td>\n",
       "    </tr>\n",
       "    <tr>\n",
       "      <th>1</th>\n",
       "      <td>Golden State Warriors</td>\n",
       "      <td>GSW</td>\n",
       "      <td>2022</td>\n",
       "      <td>189494053</td>\n",
       "    </tr>\n",
       "    <tr>\n",
       "      <th>2</th>\n",
       "      <td>Brooklyn Nets</td>\n",
       "      <td>BKN</td>\n",
       "      <td>2022</td>\n",
       "      <td>181188628</td>\n",
       "    </tr>\n",
       "    <tr>\n",
       "      <th>3</th>\n",
       "      <td>Milwaukee Bucks</td>\n",
       "      <td>MIL</td>\n",
       "      <td>2022</td>\n",
       "      <td>176699627</td>\n",
       "    </tr>\n",
       "    <tr>\n",
       "      <th>4</th>\n",
       "      <td>Boston Celtics</td>\n",
       "      <td>BOS</td>\n",
       "      <td>2022</td>\n",
       "      <td>175519498</td>\n",
       "    </tr>\n",
       "    <tr>\n",
       "      <th>...</th>\n",
       "      <td>...</td>\n",
       "      <td>...</td>\n",
       "      <td>...</td>\n",
       "      <td>...</td>\n",
       "    </tr>\n",
       "    <tr>\n",
       "      <th>355</th>\n",
       "      <td>Cleveland Cavaliers</td>\n",
       "      <td>CLE</td>\n",
       "      <td>2011</td>\n",
       "      <td>48030927</td>\n",
       "    </tr>\n",
       "    <tr>\n",
       "      <th>356</th>\n",
       "      <td>Houston Rockets</td>\n",
       "      <td>HOU</td>\n",
       "      <td>2011</td>\n",
       "      <td>43714664</td>\n",
       "    </tr>\n",
       "    <tr>\n",
       "      <th>357</th>\n",
       "      <td>New Jersey Nets</td>\n",
       "      <td>NJN</td>\n",
       "      <td>2011</td>\n",
       "      <td>47743918</td>\n",
       "    </tr>\n",
       "    <tr>\n",
       "      <th>358</th>\n",
       "      <td>Indiana Pacers</td>\n",
       "      <td>IND</td>\n",
       "      <td>2011</td>\n",
       "      <td>44413746</td>\n",
       "    </tr>\n",
       "    <tr>\n",
       "      <th>359</th>\n",
       "      <td>Sacramento Kings</td>\n",
       "      <td>SAC</td>\n",
       "      <td>2011</td>\n",
       "      <td>36583409</td>\n",
       "    </tr>\n",
       "  </tbody>\n",
       "</table>\n",
       "<p>360 rows × 4 columns</p>\n",
       "</div>"
      ],
      "text/plain": [
       "                      team code  year     active\n",
       "0     Los Angeles Clippers  LAC  2022  191952857\n",
       "1    Golden State Warriors  GSW  2022  189494053\n",
       "2            Brooklyn Nets  BKN  2022  181188628\n",
       "3          Milwaukee Bucks  MIL  2022  176699627\n",
       "4           Boston Celtics  BOS  2022  175519498\n",
       "..                     ...  ...   ...        ...\n",
       "355    Cleveland Cavaliers  CLE  2011   48030927\n",
       "356        Houston Rockets  HOU  2011   43714664\n",
       "357        New Jersey Nets  NJN  2011   47743918\n",
       "358         Indiana Pacers  IND  2011   44413746\n",
       "359       Sacramento Kings  SAC  2011   36583409\n",
       "\n",
       "[360 rows x 4 columns]"
      ]
     },
     "execution_count": 41,
     "metadata": {},
     "output_type": "execute_result"
    }
   ],
   "source": [
    "df"
   ]
  },
  {
   "cell_type": "code",
   "execution_count": 49,
   "metadata": {},
   "outputs": [],
   "source": [
    "average_payroll = {}\n",
    "\n",
    "for year in range(2011, 2023):\n",
    "    for row in df:\n",
    "        average_payroll.update({year: df.loc[df['year'] == year, 'active'].mean()})"
   ]
  },
  {
   "cell_type": "code",
   "execution_count": 56,
   "metadata": {},
   "outputs": [],
   "source": [
    "adj = pd.read_csv('adjusted_payroll_averages.csv').drop(columns=['Average_Payroll', 'CPI', 'Revenue_Index']).reset_index(drop=True)"
   ]
  },
  {
   "cell_type": "code",
   "execution_count": 57,
   "metadata": {},
   "outputs": [
    {
     "data": {
      "text/html": [
       "<div>\n",
       "<style scoped>\n",
       "    .dataframe tbody tr th:only-of-type {\n",
       "        vertical-align: middle;\n",
       "    }\n",
       "\n",
       "    .dataframe tbody tr th {\n",
       "        vertical-align: top;\n",
       "    }\n",
       "\n",
       "    .dataframe thead th {\n",
       "        text-align: right;\n",
       "    }\n",
       "</style>\n",
       "<table border=\"1\" class=\"dataframe\">\n",
       "  <thead>\n",
       "    <tr style=\"text-align: right;\">\n",
       "      <th></th>\n",
       "      <th>Year</th>\n",
       "      <th>Adj_Payroll_Avg</th>\n",
       "    </tr>\n",
       "  </thead>\n",
       "  <tbody>\n",
       "    <tr>\n",
       "      <th>0</th>\n",
       "      <td>2011</td>\n",
       "      <td>161738.1226</td>\n",
       "    </tr>\n",
       "    <tr>\n",
       "      <th>1</th>\n",
       "      <td>2012</td>\n",
       "      <td>174126.9676</td>\n",
       "    </tr>\n",
       "    <tr>\n",
       "      <th>2</th>\n",
       "      <td>2013</td>\n",
       "      <td>156456.4108</td>\n",
       "    </tr>\n",
       "    <tr>\n",
       "      <th>3</th>\n",
       "      <td>2014</td>\n",
       "      <td>155269.4738</td>\n",
       "    </tr>\n",
       "    <tr>\n",
       "      <th>4</th>\n",
       "      <td>2015</td>\n",
       "      <td>166383.5677</td>\n",
       "    </tr>\n",
       "    <tr>\n",
       "      <th>5</th>\n",
       "      <td>2016</td>\n",
       "      <td>199784.2533</td>\n",
       "    </tr>\n",
       "    <tr>\n",
       "      <th>6</th>\n",
       "      <td>2017</td>\n",
       "      <td>197099.9609</td>\n",
       "    </tr>\n",
       "    <tr>\n",
       "      <th>7</th>\n",
       "      <td>2018</td>\n",
       "      <td>193132.0201</td>\n",
       "    </tr>\n",
       "    <tr>\n",
       "      <th>8</th>\n",
       "      <td>2019</td>\n",
       "      <td>195822.8910</td>\n",
       "    </tr>\n",
       "    <tr>\n",
       "      <th>9</th>\n",
       "      <td>2020</td>\n",
       "      <td>214094.5081</td>\n",
       "    </tr>\n",
       "    <tr>\n",
       "      <th>10</th>\n",
       "      <td>2021</td>\n",
       "      <td>245773.8043</td>\n",
       "    </tr>\n",
       "  </tbody>\n",
       "</table>\n",
       "</div>"
      ],
      "text/plain": [
       "    Year  Adj_Payroll_Avg\n",
       "0   2011      161738.1226\n",
       "1   2012      174126.9676\n",
       "2   2013      156456.4108\n",
       "3   2014      155269.4738\n",
       "4   2015      166383.5677\n",
       "5   2016      199784.2533\n",
       "6   2017      197099.9609\n",
       "7   2018      193132.0201\n",
       "8   2019      195822.8910\n",
       "9   2020      214094.5081\n",
       "10  2021      245773.8043"
      ]
     },
     "execution_count": 57,
     "metadata": {},
     "output_type": "execute_result"
    }
   ],
   "source": [
    "adj"
   ]
  },
  {
   "cell_type": "code",
   "execution_count": 61,
   "metadata": {},
   "outputs": [],
   "source": [
    "for team in teams:\n",
    "    df = pd.read_csv(f'active_payroll_{team}.csv').reset_index(drop=True)\n",
    "    \n",
    "    df = pd.merge(df, adj, on='Year').reset_index(drop=True)\n",
    "\n",
    "    df.to_csv(f'active_payroll_{team}.csv')"
   ]
  }
 ],
 "metadata": {
  "kernelspec": {
   "display_name": "myenv",
   "language": "python",
   "name": "python3"
  },
  "language_info": {
   "codemirror_mode": {
    "name": "ipython",
    "version": 3
   },
   "file_extension": ".py",
   "mimetype": "text/x-python",
   "name": "python",
   "nbconvert_exporter": "python",
   "pygments_lexer": "ipython3",
   "version": "3.9.12"
  },
  "orig_nbformat": 4,
  "vscode": {
   "interpreter": {
    "hash": "bcf767d74aa0613621d814dbc311c100d7c513475831bdee7c609a7f5e52ccf1"
   }
  }
 },
 "nbformat": 4,
 "nbformat_minor": 2
}
