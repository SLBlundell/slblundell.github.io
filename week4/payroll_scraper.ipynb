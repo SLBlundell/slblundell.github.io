{
 "cells": [
  {
   "cell_type": "code",
   "execution_count": null,
   "metadata": {},
   "outputs": [],
   "source": [
    "#import required libraries\n",
    "import pandas as pd\n",
    "import requests\n",
    "from bs4 import BeautifulSoup"
   ]
  },
  {
   "cell_type": "code",
   "execution_count": null,
   "metadata": {},
   "outputs": [],
   "source": [
    "#request content of 2022 payrolls\n",
    "payrolls_22 = requests.get('https://www.spotrac.com/nba/tax/')"
   ]
  },
  {
   "cell_type": "code",
   "execution_count": null,
   "metadata": {},
   "outputs": [],
   "source": [
    "#create BeautifulSoup object\n",
    "soup = BeautifulSoup(payrolls_22.content, 'html.parser')\n",
    "print(soup.prettify())"
   ]
  },
  {
   "cell_type": "code",
   "execution_count": null,
   "metadata": {},
   "outputs": [],
   "source": [
    "#find correct table\n",
    "table = soup.find(\"table\", class_=\"datatable rtable captracker\")\n",
    "print(soup.table)"
   ]
  },
  {
   "cell_type": "code",
   "execution_count": null,
   "metadata": {},
   "outputs": [],
   "source": [
    "#create DataFrame\n",
    "df = pd.DataFrame(columns=[\"team\", \"code\", \"year\", \"active\"])\n",
    "#collect data\n",
    "for row in table.tbody.find_all('tr'):\n",
    "    columns = row.find_all('td')\n",
    "\n",
    "    if(columns != []):\n",
    "        team = columns[1].text[:-3]\n",
    "        code = columns[1].text[-3:]\n",
    "        year = 2022\n",
    "        active = int(columns[3].text.strip(\"$\").replace(',',''))\n",
    "\n",
    "        df = df.append({\"team\": team, \"code\": code, \"year\": year, \"active\": active}, ignore_index=True)\n"
   ]
  },
  {
   "cell_type": "code",
   "execution_count": null,
   "metadata": {},
   "outputs": [],
   "source": [
    "#iterate over payroll data from 2011 to 2021\n",
    "for i in range(21, 10, -1):\n",
    "    url = 'https://www.spotrac.com/nba/tax/20' + str(i)\n",
    "    payrolls = requests.get(url)\n",
    "    \n",
    "    soup = BeautifulSoup(payrolls.content, 'html.parser')\n",
    "\n",
    "    table = soup.find(\"table\", class_=\"datatable rtable captracker\")\n",
    "\n",
    "    for row in table.tbody.find_all('tr'):\n",
    "        columns = row.find_all('td')\n",
    "\n",
    "        if(columns != []):\n",
    "            team = columns[1].text[:-3]\n",
    "            code = columns[1].text[-3:]\n",
    "            year = 2000 + i\n",
    "            active = int(columns[3].text.strip(\"$\").replace(',',''))\n",
    "\n",
    "            df = df.append({\"team\": team, \"code\": code, \"year\": year, \"active\": active}, ignore_index=True)"
   ]
  },
  {
   "cell_type": "code",
   "execution_count": null,
   "metadata": {},
   "outputs": [],
   "source": [
    "#write data to csv\n",
    "df.to_csv('active_payroll_2011_to_2022.csv')"
   ]
  }
 ],
 "metadata": {
  "kernelspec": {
   "display_name": "Python 3.9.12 ('myenv')",
   "language": "python",
   "name": "python3"
  },
  "language_info": {
   "codemirror_mode": {
    "name": "ipython",
    "version": 3
   },
   "file_extension": ".py",
   "mimetype": "text/x-python",
   "name": "python",
   "nbconvert_exporter": "python",
   "pygments_lexer": "ipython3",
   "version": "3.9.12"
  },
  "orig_nbformat": 4,
  "vscode": {
   "interpreter": {
    "hash": "bcf767d74aa0613621d814dbc311c100d7c513475831bdee7c609a7f5e52ccf1"
   }
  }
 },
 "nbformat": 4,
 "nbformat_minor": 2
}
